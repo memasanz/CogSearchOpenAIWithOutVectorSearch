{
 "cells": [
  {
   "cell_type": "code",
   "execution_count": null,
   "metadata": {},
   "outputs": [],
   "source": [
    "import os\n",
    "from dotenv import dotenv_values\n",
    "\n",
    "config = dotenv_values(\".env\")\n",
    "\n",
    "AZURE_OPENAI_ENDPOINT = os.getenv('AZURE_OPENAI_ENDPOINT')\n",
    "AZURE_OPENAI_KEY = os.getenv('AZURE_OPENAI_KEY')\n",
    "TEXT_EMBEDDING_ENGINE = os.getenv('TEXT_EMBEDDING_ENGINE')\n",
    "COG_SEARCH_RESOURCE = os.getenv('COG_SEARCH_RESOURCE')\n",
    "COG_SEARCH_KEY = os.getenv('COG_SEARCH_KEY')\n",
    "COG_SEARCH_INDEX = os.getenv('COG_SEARCH_INDEX')\n",
    "STORAGE_CONNECTION_STRING = os.getenv('STORAGE_CONNECTION_STRING')\n",
    "STORAGE_ACCOUNT = os.getenv('STORAGE_ACCOUNT')\n",
    "STORAGE_CONTAINER = os.getenv('STORAGE_CONTAINER')\n",
    "STORAGE_KEY = os.getenv('STORAGE_KEY')\n",
    "COG_SERVICE_KEY = os.getenv('COG_SERVICE_KEY')\n",
    "DEBUG = os.getenv('DEBUG')\n",
    "functionAppUrlAndKey = os.getenv('functionAppUrlAndKey')\n",
    "\n",
    "print(COG_SEARCH_INDEX)\n"
   ]
  },
  {
   "cell_type": "code",
   "execution_count": null,
   "metadata": {},
   "outputs": [],
   "source": [
    "import requests\n",
    "import re \n",
    "import openai\n",
    "import os\n",
    "import json\n",
    "from openai.embeddings_utils import get_embedding, cosine_similarity\n",
    "from langchain.vectorstores import FAISS\n",
    "from langchain import FAISS\n",
    "from langchain.llms import AzureOpenAI\n",
    "from langchain.embeddings import OpenAIEmbeddings\n",
    "from langchain.chains.question_answering import load_qa_chain\n",
    "import numpy as np\n",
    "import pandas as pd\n"
   ]
  },
  {
   "cell_type": "code",
   "execution_count": null,
   "metadata": {},
   "outputs": [],
   "source": [
    "from cog_search import *"
   ]
  },
  {
   "cell_type": "code",
   "execution_count": null,
   "metadata": {},
   "outputs": [],
   "source": [
    "CogSearchHelper = CogSearchHelper(index = COG_SEARCH_INDEX)\n",
    "print(COG_SEARCH_INDEX)"
   ]
  },
  {
   "cell_type": "code",
   "execution_count": null,
   "metadata": {},
   "outputs": [],
   "source": [
    "response, success = CogSearchHelper.create_datasource()\n",
    "if success == True:\n",
    "    print(\"created data source\")\n",
    "    response, success = CogSearchHelper.create_skillset(COG_SERVICE_KEY, functionAppUrlAndKey)\n",
    "if success == True:\n",
    "    response, success =  CogSearchHelper.update_index_semantic()\n",
    "    print(response)\n",
    "if success == True:\n",
    "    response, success =  CogSearchHelper.create_indexer()\n",
    "    print(response)"
   ]
  },
  {
   "cell_type": "code",
   "execution_count": null,
   "metadata": {},
   "outputs": [],
   "source": [
    "question = \"tell me about cricket wirelesws\"\n",
    "arg = OpenAIHelper(\"mmsearch\")\n",
    "response = arg.get_Answer_from_load_qa_with_sources_chain(question)\n",
    "print(response)\n"
   ]
  },
  {
   "cell_type": "code",
   "execution_count": null,
   "metadata": {},
   "outputs": [],
   "source": []
  }
 ],
 "metadata": {
  "kernelspec": {
   "display_name": "Python 3",
   "language": "python",
   "name": "python3"
  },
  "language_info": {
   "codemirror_mode": {
    "name": "ipython",
    "version": 3
   },
   "file_extension": ".py",
   "mimetype": "text/x-python",
   "name": "python",
   "nbconvert_exporter": "python",
   "pygments_lexer": "ipython3",
   "version": "3.9.13"
  },
  "orig_nbformat": 4
 },
 "nbformat": 4,
 "nbformat_minor": 2
}
